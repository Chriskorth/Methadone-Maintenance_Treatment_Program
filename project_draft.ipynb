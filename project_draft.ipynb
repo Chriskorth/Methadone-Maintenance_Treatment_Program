{
 "cells": [
  {
   "cell_type": "code",
   "execution_count": null,
   "id": "d433988a-567b-44f7-8c7f-581b9c234aab",
   "metadata": {},
   "outputs": [],
   "source": [
    "#Importing packages\n",
    "import random \n",
    "import numpy as np\n",
    "import pandas as pd \n",
    "import matplotlib as plt"
   ]
  },
  {
   "cell_type": "code",
   "execution_count": null,
   "id": "c66fc434-dc7c-4ec3-8c09-0049306d9bd3",
   "metadata": {},
   "outputs": [],
   "source": [
    "#Patient Record list to store the dictionaries of patient information\n",
    "patient_record = []"
   ]
  },
  {
   "cell_type": "code",
   "execution_count": null,
   "id": "12064140-f41c-4ec7-b8f5-9d4bbd297778",
   "metadata": {},
   "outputs": [],
   "source": [
    "#Function for Enter Patient Information\n",
    "def enter_patient_info():\n",
    "    print(\"Enter Patient Information:\")\n",
    "    initial_service_date = input(\"Date of Service (MM-DD-YYYY): \")\n",
    "    patient_id = input(\"Patient ID#: \")\n",
    "    name = input(\"Name: \").upper()\n",
    "    sex = input(\"Sex (M/F): \").upper()\n",
    "    age = input(\"Age: \")\n",
    "    race = input(\"Race/Ethnicity: \").upper()\n",
    "    prev_opioid_type = input(\"Previous opioid use type: \").upper()\n",
    "    initial_methadone_dose = int(input(\"Methadone Dose (mg): \"))\n",
    "    \n",
    "    #Adding inputs to dictionary\n",
    "    patient_info = {\n",
    "        \"Patient ID\": patient_id,\n",
    "        \"Name\": name,\n",
    "        \"Sex\": sex,\n",
    "        \"Age\": age,\n",
    "        \"Race/Ethnicity\": race,\n",
    "        \"Previous Opioid Use Type\": prev_opioid_type,\n",
    "        \"Date of Service\": initial_service_date,\n",
    "        \"Methadone Dose (mg)\": initial_methadone_dose,\n",
    "    }\n",
    "    patient_record.append(patient_info)\n",
    "    return\n",
    "    print(\"Patient {} information is added/updated successfully.\".format(name))"
   ]
  },
  {
   "cell_type": "code",
   "execution_count": null,
   "id": "36e4a86a-12fa-499e-b811-a4c58f8b85c2",
   "metadata": {},
   "outputs": [],
   "source": [
    "#Updating Patient's Methadone Dose\n",
    "def update_methadone_dose():\n",
    "    patient_id = input(\"Enter Patient ID: \")\n",
    "    for record in patient_record:\n",
    "        if record [\"Patient ID\"] == patient_id:\n",
    "            update_service_date = input(\"Enter the date of the Methadone Dose update (MM-DD-YYYY): \")\n",
    "            update_methadone_dose = int(input(\"Enter the updated Methadone Dose (mg): \"))\n",
    "            if \"Dose History\" not in record:\n",
    "                record [\"Dose History\"] = []\n",
    "            record[\"Dose History\"].append({\n",
    "                \"Date of Service\": update_service_date,\n",
    "                \"Methadone Dose (mg)\": update_methadone_dose\n",
    "            })\n",
    "            print(\"Patient's Methadone dose is added/updated successfully.\")\n",
    "            return\n",
    "    else: \n",
    "        print(\"Patient not found.\")"
   ]
  },
  {
   "cell_type": "code",
   "execution_count": null,
   "id": "0aa086d0-f4b8-4a8d-821d-1bac7199043b",
   "metadata": {},
   "outputs": [],
   "source": [
    "#Look up Patient record\n",
    "def lookup():\n",
    "    patient_id = input(\"Enter Patient ID: \")\n",
    "    patient_found = False\n",
    "    for record in patient_record: \n",
    "        if record [\"Patient ID\"] == patient_id:\n",
    "            print(record)\n",
    "            patient_found = True\n",
    "            break\n",
    "    if not patient_found: \n",
    "        print(\"Patient not found.\")"
   ]
  },
  {
   "cell_type": "code",
   "execution_count": null,
   "id": "2f032dcd-8577-4d8c-a3f9-6af798532e61",
   "metadata": {},
   "outputs": [],
   "source": [
    "#Function for update patient info \n",
    "def update_patient_info():\n",
    "    patient_id = input(\"Enter Patient ID: \")\n",
    "    for record in patient_record:\n",
    "        if record [\"Patient ID\"] == patient_id:\n",
    "            update_service_date = input(\"Enter the date of the Methadone Dose update (MM-DD-YYYY): \")\n",
    "            update_methadone_dose = int(input(\"Enter the updated Methadone Dose (mg): \"))\n",
    "            if \"Dose History\" not in record:\n",
    "                record [\"Dose History\"] = []\n",
    "            record[\"Dose History\"].append({\n",
    "                \"Date of Service\": update_service_date,\n",
    "                \"Methadone Dose (mg)\": update_methadone_dose\n",
    "            })\n",
    "            print(\"Patient's Methadone dose is added/updated successfully.\")\n",
    "            return\n",
    "    else: \n",
    "        print(\"Patient not found.\")"
   ]
  },
  {
   "cell_type": "code",
   "execution_count": null,
   "id": "9e396325-58fa-4325-bea0-e07d469d2571",
   "metadata": {},
   "outputs": [],
   "source": [
    "#Function for the input prompt/welcome screen\n",
    "def intro_prompt():\n",
    "    while True:\n",
    "        print(\"Welcome!\")\n",
    "        print(\"1. Enter/Update Patient Information\")\n",
    "        print(\"2. Update Patient's Methadone Dose\")\n",
    "        print(\"3. Look Up Patient Information\")\n",
    "        print(\"4. Exit\")\n",
    "\n",
    "        choice = input(\"Please choose an option: \")\n",
    "\n",
    "        if choice == \"1\":\n",
    "            enter_patient_info()\n",
    "        elif choice == \"2\":\n",
    "            update_methadone_dose()\n",
    "        elif choice == \"3\":\n",
    "            lookup()\n",
    "        elif choice == \"4\":\n",
    "            print(\"Goodbye.\")\n",
    "            break\n",
    "        else:\n",
    "            print(\"Please enter a valid option.\")\n",
    "            break\n",
    "intro_prompt()"
   ]
  },
  {
   "cell_type": "code",
   "execution_count": null,
   "id": "985f3983-f1f9-4980-86e1-b186e863ea8d",
   "metadata": {},
   "outputs": [],
   "source": [
    "patient_record"
   ]
  },
  {
   "cell_type": "code",
   "execution_count": null,
   "id": "52bfc398-70b9-4b9b-94c1-48108708cf11",
   "metadata": {},
   "outputs": [],
   "source": [
    "#Turning Patient Record List to DataFrame\n",
    "df = pd.DataFrame(patient_record)\n",
    "df"
   ]
  },
  {
   "cell_type": "code",
   "execution_count": null,
   "id": "13d79bfe-f333-464a-9688-96f7d89b1e1a",
   "metadata": {},
   "outputs": [],
   "source": []
  }
 ],
 "metadata": {
  "kernelspec": {
   "display_name": "Python 3 (ipykernel)",
   "language": "python",
   "name": "python3"
  },
  "language_info": {
   "codemirror_mode": {
    "name": "ipython",
    "version": 3
   },
   "file_extension": ".py",
   "mimetype": "text/x-python",
   "name": "python",
   "nbconvert_exporter": "python",
   "pygments_lexer": "ipython3",
   "version": "3.12.4"
  }
 },
 "nbformat": 4,
 "nbformat_minor": 5
}
